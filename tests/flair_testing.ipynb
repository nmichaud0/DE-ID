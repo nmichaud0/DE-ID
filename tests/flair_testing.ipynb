{
 "cells": [
  {
   "cell_type": "code",
   "id": "initial_id",
   "metadata": {
    "collapsed": true,
    "ExecuteTime": {
     "end_time": "2025-06-11T16:56:33.876910Z",
     "start_time": "2025-06-11T16:56:32.572607Z"
    }
   },
   "source": [
    "from flair.data import Sentence\n",
    "from flair.models import SequenceTagger\n",
    "\n",
    "# load tagger\n",
    "tagger = SequenceTagger.load(\"flair/upos-multi\")\n",
    "\n",
    "# make example sentence\n",
    "sentence = Sentence(\"Ich liebe Berlin, as they say. 2025 is a great year. It June 11th, 18h58\")\n",
    "\n",
    "# predict POS tags\n",
    "tagger.predict(sentence)\n",
    "\n",
    "# print sentence\n",
    "print(sentence)\n",
    "\n",
    "# iterate over tokens and print the predicted POS label\n",
    "print(\"The following POS tags are found:\")\n",
    "for token in sentence:\n",
    "    print(token.get_label(\"upos\"))\n"
   ],
   "outputs": [
    {
     "name": "stdout",
     "output_type": "stream",
     "text": [
      "2025-06-11 18:56:33,382 SequenceTagger predicts: Dictionary with 17 tags: NOUN, PUNCT, ADP, VERB, ADJ, DET, PROPN, ADV, PRON, AUX, CCONJ, NUM, SCONJ, PART, X, SYM, INTJ\n",
      "Sentence[19]: \"Ich liebe Berlin, as they say. 2025 is a great year. It June 11th, 18h58\" → [\"Ich\"/PRON, \"liebe\"/VERB, \"Berlin\"/PROPN, \",\"/PUNCT, \"as\"/SCONJ, \"they\"/PRON, \"say\"/VERB, \".\"/PUNCT, \"2025\"/NUM, \"is\"/AUX, \"a\"/DET, \"great\"/ADJ, \"year\"/NOUN, \".\"/PUNCT, \"It\"/X, \"June\"/PROPN, \"11th\"/NOUN, \",\"/PUNCT, \"18h58\"/NUM]\n",
      "The following POS tags are found:\n",
      "Token[0]: \"Ich\" → PRON (0.9999)\n",
      "Token[1]: \"liebe\" → VERB (0.9966)\n",
      "Token[2]: \"Berlin\" → PROPN (0.8597)\n",
      "Token[3]: \",\" → PUNCT (1.0)\n",
      "Token[4]: \"as\" → SCONJ (0.9963)\n",
      "Token[5]: \"they\" → PRON (0.9988)\n",
      "Token[6]: \"say\" → VERB (0.9484)\n",
      "Token[7]: \".\" → PUNCT (1.0)\n",
      "Token[8]: \"2025\" → NUM (0.9995)\n",
      "Token[9]: \"is\" → AUX (0.9995)\n",
      "Token[10]: \"a\" → DET (1.0)\n",
      "Token[11]: \"great\" → ADJ (0.9999)\n",
      "Token[12]: \"year\" → NOUN (0.996)\n",
      "Token[13]: \".\" → PUNCT (1.0)\n",
      "Token[14]: \"It\" → X (0.5751)\n",
      "Token[15]: \"June\" → PROPN (0.8249)\n",
      "Token[16]: \"11th\" → NOUN (0.9721)\n",
      "Token[17]: \",\" → PUNCT (1.0)\n",
      "Token[18]: \"18h58\" → NUM (0.9886)\n"
     ]
    }
   ],
   "execution_count": 4
  },
  {
   "metadata": {
    "ExecuteTime": {
     "end_time": "2025-06-14T08:09:12.517730Z",
     "start_time": "2025-06-14T08:09:12.506519Z"
    }
   },
   "cell_type": "code",
   "source": "dir(token)",
   "id": "f6d4435e34556bbf",
   "outputs": [
    {
     "data": {
      "text/plain": [
       "['__abstractmethods__',\n",
       " '__class__',\n",
       " '__delattr__',\n",
       " '__dict__',\n",
       " '__dir__',\n",
       " '__doc__',\n",
       " '__eq__',\n",
       " '__format__',\n",
       " '__ge__',\n",
       " '__getattribute__',\n",
       " '__gt__',\n",
       " '__hash__',\n",
       " '__init__',\n",
       " '__init_subclass__',\n",
       " '__le__',\n",
       " '__len__',\n",
       " '__lt__',\n",
       " '__module__',\n",
       " '__ne__',\n",
       " '__new__',\n",
       " '__reduce__',\n",
       " '__reduce_ex__',\n",
       " '__repr__',\n",
       " '__setattr__',\n",
       " '__sizeof__',\n",
       " '__slots__',\n",
       " '__str__',\n",
       " '__subclasshook__',\n",
       " '__weakref__',\n",
       " '_abc_impl',\n",
       " '_embeddings',\n",
       " '_internal_index',\n",
       " '_metadata',\n",
       " '_printout_labels',\n",
       " '_start_position',\n",
       " 'add_label',\n",
       " 'add_metadata',\n",
       " 'add_tags_proba_dist',\n",
       " 'annotation_layers',\n",
       " 'clear_embeddings',\n",
       " 'embedding',\n",
       " 'end_position',\n",
       " 'form',\n",
       " 'get_each_embedding',\n",
       " 'get_embedding',\n",
       " 'get_head',\n",
       " 'get_label',\n",
       " 'get_labels',\n",
       " 'get_metadata',\n",
       " 'get_tags_proba_dist',\n",
       " 'has_label',\n",
       " 'has_metadata',\n",
       " 'head_id',\n",
       " 'idx',\n",
       " 'labels',\n",
       " 'remove_labels',\n",
       " 'score',\n",
       " 'sentence',\n",
       " 'set_embedding',\n",
       " 'set_label',\n",
       " 'start_position',\n",
       " 'tag',\n",
       " 'tags_proba_dist',\n",
       " 'text',\n",
       " 'to',\n",
       " 'to_dict',\n",
       " 'unlabeled_identifier',\n",
       " 'whitespace_after']"
      ]
     },
     "execution_count": 6,
     "metadata": {},
     "output_type": "execute_result"
    }
   ],
   "execution_count": 6
  },
  {
   "metadata": {
    "ExecuteTime": {
     "end_time": "2025-06-14T08:09:23.043099Z",
     "start_time": "2025-06-14T08:09:23.037357Z"
    }
   },
   "cell_type": "code",
   "source": "token.tag",
   "id": "a9f0c52fd27391d3",
   "outputs": [
    {
     "data": {
      "text/plain": [
       "'NUM'"
      ]
     },
     "execution_count": 8,
     "metadata": {},
     "output_type": "execute_result"
    }
   ],
   "execution_count": 8
  },
  {
   "metadata": {},
   "cell_type": "code",
   "outputs": [],
   "execution_count": null,
   "source": "",
   "id": "4e8e483c9d89542b"
  }
 ],
 "metadata": {
  "kernelspec": {
   "display_name": "Python 3",
   "language": "python",
   "name": "python3"
  },
  "language_info": {
   "codemirror_mode": {
    "name": "ipython",
    "version": 2
   },
   "file_extension": ".py",
   "mimetype": "text/x-python",
   "name": "python",
   "nbconvert_exporter": "python",
   "pygments_lexer": "ipython2",
   "version": "2.7.6"
  }
 },
 "nbformat": 4,
 "nbformat_minor": 5
}
