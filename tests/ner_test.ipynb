{
 "cells": [
  {
   "cell_type": "code",
   "id": "initial_id",
   "metadata": {
    "collapsed": true,
    "ExecuteTime": {
     "end_time": "2025-06-11T14:50:44.225347Z",
     "start_time": "2025-06-11T14:50:17.256585Z"
    }
   },
   "source": [
    "from transformers import pipeline, AutoTokenizer, AutoModelForTokenClassification\n",
    "\n",
    "tokenizer = AutoTokenizer.from_pretrained('Babelscape/wikineural-multilingual-ner')\n",
    "model = AutoModelForTokenClassification.from_pretrained('Babelscape/wikineural-multilingual-ner')\n",
    "\n",
    "nlp = pipeline('ner', model=model, tokenizer=tokenizer, grouped_entities=True)\n"
   ],
   "outputs": [
    {
     "name": "stderr",
     "output_type": "stream",
     "text": [
      "/Users/nizarmichaud/PycharmProjects/DeID/venv/lib/python3.9/site-packages/tqdm/auto.py:21: TqdmWarning: IProgress not found. Please update jupyter and ipywidgets. See https://ipywidgets.readthedocs.io/en/stable/user_install.html\n",
      "  from .autonotebook import tqdm as notebook_tqdm\n",
      "Device set to use mps:0\n",
      "/Users/nizarmichaud/PycharmProjects/DeID/venv/lib/python3.9/site-packages/transformers/pipelines/token_classification.py:170: UserWarning: `grouped_entities` is deprecated and will be removed in version v5.0.0, defaulted to `aggregation_strategy=\"simple\"` instead.\n",
      "  warnings.warn(\n"
     ]
    }
   ],
   "execution_count": 1
  },
  {
   "metadata": {
    "ExecuteTime": {
     "end_time": "2025-06-11T16:25:07.145945Z",
     "start_time": "2025-06-11T16:25:04.178424Z"
    }
   },
   "cell_type": "code",
   "source": [
    "en_ex = \"My name is John Smith and I live in Geneva. It's 6:22pm on June 11, 2025. For lunch I had chicken nuggets with tartar sauce. I like to play the accordion and swim in Lake Biel.\"\n",
    "fr_ex = \"Je m'appelle John Smith et je vis à Genève. Nous sommes le 11 juin 2025, il est 18h22. À midi j'ai mangé des nuggets de poulet avec de la sauce tartare. J'aime jouer de l'accordéon et nager dans le lac de Bienne.\"\n",
    "\n",
    "ner_en = nlp(en_ex)\n",
    "ner_fr = nlp(fr_ex)\n",
    "print(ner_en)\n",
    "print(ner_fr)"
   ],
   "id": "5a4bd78f25b7da1b",
   "outputs": [
    {
     "name": "stdout",
     "output_type": "stream",
     "text": [
      "[{'entity_group': 'PER', 'score': np.float32(0.9981188), 'word': 'John Smith', 'start': 11, 'end': 21}, {'entity_group': 'LOC', 'score': np.float32(0.9997869), 'word': 'Geneva', 'start': 36, 'end': 42}, {'entity_group': 'LOC', 'score': np.float32(0.9981161), 'word': 'Lake Biel', 'start': 166, 'end': 175}]\n",
      "[{'entity_group': 'PER', 'score': np.float32(0.9992664), 'word': 'John Smith', 'start': 13, 'end': 23}, {'entity_group': 'LOC', 'score': np.float32(0.9998272), 'word': 'Genève', 'start': 36, 'end': 42}, {'entity_group': 'LOC', 'score': np.float32(0.9885938), 'word': 'lac de Bienne', 'start': 198, 'end': 211}]\n"
     ]
    }
   ],
   "execution_count": 4
  },
  {
   "metadata": {},
   "cell_type": "code",
   "outputs": [],
   "execution_count": null,
   "source": "",
   "id": "4537ae7213314a1f"
  }
 ],
 "metadata": {
  "kernelspec": {
   "display_name": "Python 3",
   "language": "python",
   "name": "python3"
  },
  "language_info": {
   "codemirror_mode": {
    "name": "ipython",
    "version": 2
   },
   "file_extension": ".py",
   "mimetype": "text/x-python",
   "name": "python",
   "nbconvert_exporter": "python",
   "pygments_lexer": "ipython2",
   "version": "2.7.6"
  }
 },
 "nbformat": 4,
 "nbformat_minor": 5
}
