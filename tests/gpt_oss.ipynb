{
 "cells": [
  {
   "metadata": {
    "ExecuteTime": {
     "end_time": "2025-08-15T09:48:22.885044Z",
     "start_time": "2025-08-15T09:48:22.863863Z"
    }
   },
   "cell_type": "code",
   "source": [
    "%load_ext autoreload\n",
    "%autoreload 2"
   ],
   "id": "de22bac0e8799940",
   "outputs": [],
   "execution_count": 1
  },
  {
   "cell_type": "code",
   "id": "initial_id",
   "metadata": {
    "collapsed": true,
    "ExecuteTime": {
     "end_time": "2025-08-15T09:49:18.915099Z",
     "start_time": "2025-08-15T09:48:23.147632Z"
    }
   },
   "source": [
    "import torch\n",
    "import os\n",
    "from gpt_oss_model import TokenGenerator, Transformer\n",
    "\n",
    "\n",
    "model_path = '../gpt-oss-20b/original'\n",
    "\n",
    "device = torch.device('cpu')\n",
    "\n",
    "generator = TokenGenerator(checkpoint=model_path, device=device)"
   ],
   "outputs": [
    {
     "name": "stdout",
     "output_type": "stream",
     "text": [
      "checkpoint 11h16\n"
     ]
    }
   ],
   "execution_count": 2
  },
  {
   "metadata": {
    "ExecuteTime": {
     "end_time": "2025-08-15T09:49:19.219541Z",
     "start_time": "2025-08-15T09:49:18.962164Z"
    }
   },
   "cell_type": "code",
   "source": [
    "from openai_harmony import load_harmony_encoding, HarmonyEncodingName, Role, Message, Conversation\n",
    "\n",
    "enc = load_harmony_encoding(HarmonyEncodingName.HARMONY_GPT_OSS)\n",
    "\n",
    "conv = Conversation.from_messages([Message.from_role_and_content(Role.SYSTEM, \"You are a calculator\"), Message.from_role_and_content(Role.USER, '5 + 8 =')])\n",
    "\n",
    "prompt_tokens = enc.render_conversation_for_completion(conv, Role.ASSISTANT)\n",
    "stop_tokens = enc.stop_tokens()\n",
    "\n",
    "print(prompt_tokens, stop_tokens)\n",
    "print(enc.decode(prompt_tokens), '– – –', enc.decode(stop_tokens))"
   ],
   "id": "cf4c6fc5aebd451c",
   "outputs": [
    {
     "name": "stdout",
     "output_type": "stream",
     "text": [
      "[200006, 17360, 200008, 3575, 553, 261, 44484, 200007, 200006, 1428, 200008, 20, 659, 220, 23, 314, 200007, 200006, 173781] [200002, 200012, 200007]\n",
      "<|start|>system<|message|>You are a calculator<|end|><|start|>user<|message|>5 + 8 =<|end|><|start|>assistant – – – <|return|><|call|><|end|>\n"
     ]
    }
   ],
   "execution_count": 3
  },
  {
   "metadata": {
    "ExecuteTime": {
     "end_time": "2025-08-15T09:52:59.663666Z",
     "start_time": "2025-08-15T09:49:19.225506Z"
    }
   },
   "cell_type": "code",
   "source": [
    "\n",
    "output_tokens = list(generator.generate(prompt_tokens=prompt_tokens, stop_tokens=stop_tokens, temperature=0.7, max_tokens=300))\n",
    "\n",
    "print('Generated token IDs:', output_tokens)\n",
    "print('Decoded generated tokens:', enc.decode(output_tokens))"
   ],
   "id": "8709fdc7811c0422",
   "outputs": [
    {
     "name": "stdout",
     "output_type": "stream",
     "text": [
      "Generated token IDs: [200005, 35644, 200008, 2167, 1309, 316, 23864, 220, 20, 659, 220, 23, 314, 220, 1311, 13, 200007]\n",
      "Decoded generated tokens: <|channel|>analysis<|message|>We need to compute 5 + 8 = 13.<|end|>\n"
     ]
    }
   ],
   "execution_count": 4
  },
  {
   "metadata": {
    "ExecuteTime": {
     "end_time": "2025-08-15T09:08:52.978025Z",
     "start_time": "2025-08-15T09:08:52.974104Z"
    }
   },
   "cell_type": "code",
   "source": "enc.decode(output_tokens)",
   "id": "bc4588a1096304e4",
   "outputs": [
    {
     "data": {
      "text/plain": [
       "' = pokemon.getHistory()\\n```\\n\\nHere is a'"
      ]
     },
     "execution_count": 11,
     "metadata": {},
     "output_type": "execute_result"
    }
   ],
   "execution_count": 11
  },
  {
   "metadata": {
    "ExecuteTime": {
     "end_time": "2025-08-15T09:36:07.148690Z",
     "start_time": "2025-08-15T09:36:05.546322Z"
    }
   },
   "cell_type": "code",
   "source": [
    "for i, b in enumerate(generator.model.block):\n",
    "    generator.model.block[i] = b.to('cuda')"
   ],
   "id": "2c5582be0ef128a9",
   "execution_count": 16,
   "outputs": [
    {
     "ename": "OutOfMemoryError",
     "evalue": "CUDA out of memory. Tried to allocate 508.00 MiB. GPU 0 has a total capacity of 7.77 GiB of which 192.31 MiB is free. Including non-PyTorch memory, this process has 7.34 GiB memory in use. Of the allocated memory 7.18 GiB is allocated by PyTorch, and 43.71 MiB is reserved by PyTorch but unallocated. If reserved but unallocated memory is large try setting PYTORCH_CUDA_ALLOC_CONF=expandable_segments:True to avoid fragmentation.  See documentation for Memory Management  (https://pytorch.org/docs/stable/notes/cuda.html#environment-variables)",
     "output_type": "error",
     "traceback": [
      "\u001B[31m---------------------------------------------------------------------------\u001B[39m",
      "\u001B[31mOutOfMemoryError\u001B[39m                          Traceback (most recent call last)",
      "\u001B[36mCell\u001B[39m\u001B[36m \u001B[39m\u001B[32mIn[16]\u001B[39m\u001B[32m, line 2\u001B[39m\n\u001B[32m      1\u001B[39m \u001B[38;5;28;01mfor\u001B[39;00m i, b \u001B[38;5;129;01min\u001B[39;00m \u001B[38;5;28menumerate\u001B[39m(generator.model.block):\n\u001B[32m----> \u001B[39m\u001B[32m2\u001B[39m     generator.model.block[i] = \u001B[43mb\u001B[49m\u001B[43m.\u001B[49m\u001B[43mto\u001B[49m\u001B[43m(\u001B[49m\u001B[33;43m'\u001B[39;49m\u001B[33;43mcuda\u001B[39;49m\u001B[33;43m'\u001B[39;49m\u001B[43m)\u001B[49m\n",
      "\u001B[36mFile \u001B[39m\u001B[32m~/PycharmProjects/DE-ID/venv1/lib/python3.12/site-packages/torch/nn/modules/module.py:1355\u001B[39m, in \u001B[36mModule.to\u001B[39m\u001B[34m(self, *args, **kwargs)\u001B[39m\n\u001B[32m   1352\u001B[39m         \u001B[38;5;28;01melse\u001B[39;00m:\n\u001B[32m   1353\u001B[39m             \u001B[38;5;28;01mraise\u001B[39;00m\n\u001B[32m-> \u001B[39m\u001B[32m1355\u001B[39m \u001B[38;5;28;01mreturn\u001B[39;00m \u001B[38;5;28;43mself\u001B[39;49m\u001B[43m.\u001B[49m\u001B[43m_apply\u001B[49m\u001B[43m(\u001B[49m\u001B[43mconvert\u001B[49m\u001B[43m)\u001B[49m\n",
      "\u001B[36mFile \u001B[39m\u001B[32m~/PycharmProjects/DE-ID/venv1/lib/python3.12/site-packages/torch/nn/modules/module.py:915\u001B[39m, in \u001B[36mModule._apply\u001B[39m\u001B[34m(self, fn, recurse)\u001B[39m\n\u001B[32m    913\u001B[39m \u001B[38;5;28;01mif\u001B[39;00m recurse:\n\u001B[32m    914\u001B[39m     \u001B[38;5;28;01mfor\u001B[39;00m module \u001B[38;5;129;01min\u001B[39;00m \u001B[38;5;28mself\u001B[39m.children():\n\u001B[32m--> \u001B[39m\u001B[32m915\u001B[39m         \u001B[43mmodule\u001B[49m\u001B[43m.\u001B[49m\u001B[43m_apply\u001B[49m\u001B[43m(\u001B[49m\u001B[43mfn\u001B[49m\u001B[43m)\u001B[49m\n\u001B[32m    917\u001B[39m \u001B[38;5;28;01mdef\u001B[39;00m\u001B[38;5;250m \u001B[39m\u001B[34mcompute_should_use_set_data\u001B[39m(tensor, tensor_applied):\n\u001B[32m    918\u001B[39m     \u001B[38;5;28;01mif\u001B[39;00m torch._has_compatible_shallow_copy_type(tensor, tensor_applied):\n\u001B[32m    919\u001B[39m         \u001B[38;5;66;03m# If the new tensor has compatible tensor type as the existing tensor,\u001B[39;00m\n\u001B[32m    920\u001B[39m         \u001B[38;5;66;03m# the current behavior is to change the tensor in-place using `.data =`,\u001B[39;00m\n\u001B[32m   (...)\u001B[39m\u001B[32m    925\u001B[39m         \u001B[38;5;66;03m# global flag to let the user control whether they want the future\u001B[39;00m\n\u001B[32m    926\u001B[39m         \u001B[38;5;66;03m# behavior of overwriting the existing tensor or not.\u001B[39;00m\n",
      "\u001B[36mFile \u001B[39m\u001B[32m~/PycharmProjects/DE-ID/venv1/lib/python3.12/site-packages/torch/nn/modules/module.py:942\u001B[39m, in \u001B[36mModule._apply\u001B[39m\u001B[34m(self, fn, recurse)\u001B[39m\n\u001B[32m    938\u001B[39m \u001B[38;5;66;03m# Tensors stored in modules are graph leaves, and we don't want to\u001B[39;00m\n\u001B[32m    939\u001B[39m \u001B[38;5;66;03m# track autograd history of `param_applied`, so we have to use\u001B[39;00m\n\u001B[32m    940\u001B[39m \u001B[38;5;66;03m# `with torch.no_grad():`\u001B[39;00m\n\u001B[32m    941\u001B[39m \u001B[38;5;28;01mwith\u001B[39;00m torch.no_grad():\n\u001B[32m--> \u001B[39m\u001B[32m942\u001B[39m     param_applied = \u001B[43mfn\u001B[49m\u001B[43m(\u001B[49m\u001B[43mparam\u001B[49m\u001B[43m)\u001B[49m\n\u001B[32m    943\u001B[39m p_should_use_set_data = compute_should_use_set_data(param, param_applied)\n\u001B[32m    945\u001B[39m \u001B[38;5;66;03m# subclasses may have multiple child tensors so we need to use swap_tensors\u001B[39;00m\n",
      "\u001B[36mFile \u001B[39m\u001B[32m~/PycharmProjects/DE-ID/venv1/lib/python3.12/site-packages/torch/nn/modules/module.py:1341\u001B[39m, in \u001B[36mModule.to.<locals>.convert\u001B[39m\u001B[34m(t)\u001B[39m\n\u001B[32m   1334\u001B[39m     \u001B[38;5;28;01mif\u001B[39;00m convert_to_format \u001B[38;5;129;01mis\u001B[39;00m \u001B[38;5;129;01mnot\u001B[39;00m \u001B[38;5;28;01mNone\u001B[39;00m \u001B[38;5;129;01mand\u001B[39;00m t.dim() \u001B[38;5;129;01min\u001B[39;00m (\u001B[32m4\u001B[39m, \u001B[32m5\u001B[39m):\n\u001B[32m   1335\u001B[39m         \u001B[38;5;28;01mreturn\u001B[39;00m t.to(\n\u001B[32m   1336\u001B[39m             device,\n\u001B[32m   1337\u001B[39m             dtype \u001B[38;5;28;01mif\u001B[39;00m t.is_floating_point() \u001B[38;5;129;01mor\u001B[39;00m t.is_complex() \u001B[38;5;28;01melse\u001B[39;00m \u001B[38;5;28;01mNone\u001B[39;00m,\n\u001B[32m   1338\u001B[39m             non_blocking,\n\u001B[32m   1339\u001B[39m             memory_format=convert_to_format,\n\u001B[32m   1340\u001B[39m         )\n\u001B[32m-> \u001B[39m\u001B[32m1341\u001B[39m     \u001B[38;5;28;01mreturn\u001B[39;00m \u001B[43mt\u001B[49m\u001B[43m.\u001B[49m\u001B[43mto\u001B[49m\u001B[43m(\u001B[49m\n\u001B[32m   1342\u001B[39m \u001B[43m        \u001B[49m\u001B[43mdevice\u001B[49m\u001B[43m,\u001B[49m\n\u001B[32m   1343\u001B[39m \u001B[43m        \u001B[49m\u001B[43mdtype\u001B[49m\u001B[43m \u001B[49m\u001B[38;5;28;43;01mif\u001B[39;49;00m\u001B[43m \u001B[49m\u001B[43mt\u001B[49m\u001B[43m.\u001B[49m\u001B[43mis_floating_point\u001B[49m\u001B[43m(\u001B[49m\u001B[43m)\u001B[49m\u001B[43m \u001B[49m\u001B[38;5;129;43;01mor\u001B[39;49;00m\u001B[43m \u001B[49m\u001B[43mt\u001B[49m\u001B[43m.\u001B[49m\u001B[43mis_complex\u001B[49m\u001B[43m(\u001B[49m\u001B[43m)\u001B[49m\u001B[43m \u001B[49m\u001B[38;5;28;43;01melse\u001B[39;49;00m\u001B[43m \u001B[49m\u001B[38;5;28;43;01mNone\u001B[39;49;00m\u001B[43m,\u001B[49m\n\u001B[32m   1344\u001B[39m \u001B[43m        \u001B[49m\u001B[43mnon_blocking\u001B[49m\u001B[43m,\u001B[49m\n\u001B[32m   1345\u001B[39m \u001B[43m    \u001B[49m\u001B[43m)\u001B[49m\n\u001B[32m   1346\u001B[39m \u001B[38;5;28;01mexcept\u001B[39;00m \u001B[38;5;167;01mNotImplementedError\u001B[39;00m \u001B[38;5;28;01mas\u001B[39;00m e:\n\u001B[32m   1347\u001B[39m     \u001B[38;5;28;01mif\u001B[39;00m \u001B[38;5;28mstr\u001B[39m(e) == \u001B[33m\"\u001B[39m\u001B[33mCannot copy out of meta tensor; no data!\u001B[39m\u001B[33m\"\u001B[39m:\n",
      "\u001B[31mOutOfMemoryError\u001B[39m: CUDA out of memory. Tried to allocate 508.00 MiB. GPU 0 has a total capacity of 7.77 GiB of which 192.31 MiB is free. Including non-PyTorch memory, this process has 7.34 GiB memory in use. Of the allocated memory 7.18 GiB is allocated by PyTorch, and 43.71 MiB is reserved by PyTorch but unallocated. If reserved but unallocated memory is large try setting PYTORCH_CUDA_ALLOC_CONF=expandable_segments:True to avoid fragmentation.  See documentation for Memory Management  (https://pytorch.org/docs/stable/notes/cuda.html#environment-variables)"
     ]
    }
   ]
  },
  {
   "metadata": {
    "ExecuteTime": {
     "end_time": "2025-08-15T09:37:48.989923Z",
     "start_time": "2025-08-15T09:37:48.982620Z"
    }
   },
   "cell_type": "code",
   "source": [
    "for i, b in enumerate(generator.model.block):\n",
    "    print(i+1, b.attn.device)"
   ],
   "id": "b3fafe02a9c1d856",
   "outputs": [
    {
     "name": "stdout",
     "output_type": "stream",
     "text": [
      "1 cpu\n",
      "2 cpu\n",
      "3 cpu\n",
      "4 cpu\n",
      "5 cpu\n",
      "6 cpu\n",
      "7 cpu\n",
      "8 cpu\n",
      "9 cpu\n",
      "10 cpu\n",
      "11 cpu\n",
      "12 cpu\n",
      "13 cpu\n",
      "14 cpu\n",
      "15 cpu\n",
      "16 cpu\n",
      "17 cpu\n",
      "18 cpu\n",
      "19 cpu\n",
      "20 cpu\n",
      "21 cpu\n",
      "22 cpu\n",
      "23 cpu\n",
      "24 cpu\n"
     ]
    }
   ],
   "execution_count": 18
  },
  {
   "metadata": {},
   "cell_type": "code",
   "outputs": [],
   "execution_count": null,
   "source": "",
   "id": "faa5023c33eea0f8"
  }
 ],
 "metadata": {
  "kernelspec": {
   "display_name": "Python 3",
   "language": "python",
   "name": "python3"
  },
  "language_info": {
   "codemirror_mode": {
    "name": "ipython",
    "version": 2
   },
   "file_extension": ".py",
   "mimetype": "text/x-python",
   "name": "python",
   "nbconvert_exporter": "python",
   "pygments_lexer": "ipython2",
   "version": "2.7.6"
  }
 },
 "nbformat": 4,
 "nbformat_minor": 5
}
