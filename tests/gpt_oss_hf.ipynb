{
 "cells": [
  {
   "cell_type": "code",
   "id": "initial_id",
   "metadata": {
    "collapsed": true,
    "ExecuteTime": {
     "end_time": "2025-08-15T11:22:56.018704Z",
     "start_time": "2025-08-15T11:22:23.644797Z"
    }
   },
   "source": [
    "# Load model directly\n",
    "from transformers import AutoTokenizer, AutoModelForCausalLM\n",
    "\n",
    "tokenizer = AutoTokenizer.from_pretrained(\"openai/gpt-oss-20b\")\n",
    "model = AutoModelForCausalLM.from_pretrained(\"openai/gpt-oss-20b\")\n"
   ],
   "outputs": [
    {
     "data": {
      "text/plain": [
       "Loading checkpoint shards:   0%|          | 0/3 [00:00<?, ?it/s]"
      ],
      "application/vnd.jupyter.widget-view+json": {
       "version_major": 2,
       "version_minor": 0,
       "model_id": "a30f598c5e0e46179194e77f267c3e38"
      }
     },
     "metadata": {},
     "output_type": "display_data"
    }
   ],
   "execution_count": 19
  },
  {
   "metadata": {
    "ExecuteTime": {
     "end_time": "2025-08-15T11:24:24.432475Z",
     "start_time": "2025-08-15T11:24:24.425043Z"
    }
   },
   "cell_type": "code",
   "source": [
    "messages = [\n",
    "    {\"role\": \"user\", \"content\": \"Who are you?\"},]\n",
    "\n",
    "\"\"\"{'role': 'assistant', 'content': \"<|channel|>analysis<|message|>Need to respond in a friendly way, explain I'm chatGPT.\\n\\nAlso maybe ask user for something else? Provide information.\\n\\nLet's produce a short, straightforward answer.<|end|><|start|>assistant<|channel|>final<|message|>\"}\"\"\"\n",
    "\n",
    "inputs = tokenizer.apply_chat_template(\n",
    "\tmessages,\n",
    "\tadd_generation_prompt=True,\n",
    "\ttokenize=True,\n",
    "\treturn_dict=True,\n",
    "\treturn_tensors=\"pt\",\n",
    ").to(model.device)"
   ],
   "id": "1388bb11a127005",
   "outputs": [],
   "execution_count": 22
  },
  {
   "metadata": {
    "ExecuteTime": {
     "end_time": "2025-08-15T11:29:08.861603Z",
     "start_time": "2025-08-15T11:29:08.856833Z"
    }
   },
   "cell_type": "code",
   "source": [
    "import torch\n",
    "\n",
    "print(inputs['input_ids'].shape, inputs['attention_mask'].shape)\n",
    "\n",
    "thinking_tokens = tokenizer.encode(\"<|channel|>analysis<|message|>Need to respond in a friendly way, explain I'm chatGPT.\\n\\nAlso maybe ask user for something else? Provide information.\\n\\nLet's produce a short, straightforward answer.<|end|><|start|>assistant<|channel|>final<|message|>\")\n",
    "\n",
    "tt = torch.tensor(thinking_tokens)[None, :]\n",
    "\n",
    "inputs2 = {'input_ids': torch.cat((inputs['input_ids'], tt), dim=1)}\n",
    "\n",
    "inputs2['attention_mask'] = torch.zeros(1, inputs2['input_ids'].shape[1])\n",
    "\n",
    "print(inputs2['input_ids'].shape, inputs2['attention_mask'].shape)"
   ],
   "id": "1013b727187cb4ed",
   "outputs": [
    {
     "name": "stdout",
     "output_type": "stream",
     "text": [
      "torch.Size([1, 71]) torch.Size([1, 71])\n",
      "torch.Size([1, 112]) torch.Size([1, 112])\n"
     ]
    }
   ],
   "execution_count": 37
  },
  {
   "metadata": {
    "ExecuteTime": {
     "end_time": "2025-08-15T11:30:21.134380Z",
     "start_time": "2025-08-15T11:29:21.630419Z"
    }
   },
   "cell_type": "code",
   "source": [
    "outputs = model.generate(**inputs2, max_new_tokens=100)\n",
    "print(tokenizer.decode(outputs[0][inputs[\"input_ids\"].shape[-1]:]))"
   ],
   "id": "6d73e6e29df818d3",
   "outputs": [
    {
     "name": "stdout",
     "output_type": "stream",
     "text": [
      "<|channel|>analysis<|message|>Need to respond in a friendly way, explain I'm chatGPT.\n",
      "\n",
      "Also maybe ask user for something else? Provide information.\n",
      "\n",
      "Let's produce a short, straightforward answer.<|end|><|start|>assistant<|channel|>final<|message|>  \n",
      "- **Data Analysis**:\n",
      "  - Conduct an analysis of the collected data to identify trends, anomalies, or patterns related to the proposed hypothesis.\n",
      "  \n",
      "- **Verification**:\n",
      "  - Corroborate findings with secondary sources where possible, and assess the reliability and validity of the primary data.\n",
      "\n",
      "**Expected Outcomes**:\n",
      "\n",
      "- Identification of specific events or actions that led to the designation of the settlement as an \"unincorporated community\".\n",
      "- Understanding of whether the designation was the result of demographic\n"
     ]
    }
   ],
   "execution_count": 38
  },
  {
   "metadata": {
    "ExecuteTime": {
     "end_time": "2025-08-15T11:20:51.047651Z",
     "start_time": "2025-08-15T11:20:51.044133Z"
    }
   },
   "cell_type": "code",
   "source": "tokenizer.decode(outputs[0][inputs['input_ids'].shape[-1]:][:41])",
   "id": "d647c25e31069501",
   "outputs": [
    {
     "data": {
      "text/plain": [
       "\"<|channel|>analysis<|message|>Need to respond in a friendly way, explain I'm chatGPT.\\n\\nAlso maybe ask user for something else? Provide information.\\n\\nLet's produce a short, straightforward answer.<|end|><|start|>assistant<|channel|>final<|message|>\""
      ]
     },
     "execution_count": 17,
     "metadata": {},
     "output_type": "execute_result"
    }
   ],
   "execution_count": 17
  },
  {
   "metadata": {
    "ExecuteTime": {
     "end_time": "2025-08-15T11:23:54.275438Z",
     "start_time": "2025-08-15T11:23:54.271993Z"
    }
   },
   "cell_type": "code",
   "source": "",
   "id": "90433351c5de8566",
   "outputs": [
    {
     "data": {
      "text/plain": [
       "transformers.tokenization_utils_base.BatchEncoding"
      ]
     },
     "execution_count": 21,
     "metadata": {},
     "output_type": "execute_result"
    }
   ],
   "execution_count": 21
  },
  {
   "metadata": {},
   "cell_type": "code",
   "outputs": [],
   "execution_count": null,
   "source": "",
   "id": "9b8c3f302813950e"
  }
 ],
 "metadata": {
  "kernelspec": {
   "display_name": "Python 3",
   "language": "python",
   "name": "python3"
  },
  "language_info": {
   "codemirror_mode": {
    "name": "ipython",
    "version": 2
   },
   "file_extension": ".py",
   "mimetype": "text/x-python",
   "name": "python",
   "nbconvert_exporter": "python",
   "pygments_lexer": "ipython2",
   "version": "2.7.6"
  }
 },
 "nbformat": 4,
 "nbformat_minor": 5
}
